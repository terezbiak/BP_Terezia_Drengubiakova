{
 "cells": [
  {
   "cell_type": "markdown",
   "id": "a126da51-5852-4ed0-88b8-9b67b5b38dac",
   "metadata": {},
   "source": [
    "## Príprava dát"
   ]
  },
  {
   "cell_type": "markdown",
   "id": "45d7a6ca-c391-4793-970d-cd2d06b33b23",
   "metadata": {},
   "source": [
    "Súbor: priprava_dat.ipynb\n",
    "\n",
    "Program: Hospodárska informatika\n",
    "\n",
    "Vypracovala: Terézia Drengubiaková\n",
    "\n",
    "Bakalárska práca: : Prediktívne modely v spracovaní dát z oblasti kozmického počasia\n",
    "\n",
    "Vedúci diplomovej práce: doc. Ing. Peter Butka, PhD.\n",
    "\n",
    "Konzultanti: Ing. Viera Maslej Krešňáková, PhD., RNDr. Šimon Mackovjak, PhD."
   ]
  },
  {
   "cell_type": "code",
   "execution_count": 1,
   "id": "4d260487-69fb-405c-af43-33e9307a46c7",
   "metadata": {},
   "outputs": [],
   "source": [
    "import numpy as np\n",
    "import pandas as pd\n",
    "import datetime\n",
    "import math\n",
    "from scipy import stats\n",
    "import seaborn as sns\n",
    "import matplotlib.dates as md\n",
    "import matplotlib.pyplot as plt\n",
    "import matplotlib.ticker as ticker\n",
    "from matplotlib.ticker import MaxNLocator"
   ]
  },
  {
   "cell_type": "code",
   "execution_count": 2,
   "id": "a78ad3f1-56cb-4120-a907-aaadbc4a9715",
   "metadata": {},
   "outputs": [],
   "source": [
    "df = pd.read_csv('omni_full.csv')"
   ]
  },
  {
   "cell_type": "code",
   "execution_count": 3,
   "id": "41955263-99c9-44f0-86c1-141a111e1993",
   "metadata": {},
   "outputs": [],
   "source": [
    "df = df.drop(columns=[\"Unnamed: 0\"])"
   ]
  },
  {
   "cell_type": "code",
   "execution_count": 4,
   "id": "655fa1c2-e88e-4689-9944-a9cd3ea7b5fc",
   "metadata": {},
   "outputs": [
    {
     "data": {
      "text/plain": [
       "Index(['time1', 'Rot$', 'IMF', 'PLS', 'IMF_PTS', 'PLS_PTS', 'ABS_B', 'F',\n",
       "       'THETA_AV', 'PHI_AV', 'BX_GSE', 'BY_GSE', 'BZ_GSE', 'BY_GSM', 'BZ_GSM',\n",
       "       'SIGMA$ABS_B', 'SIGMA$B', 'SIGMA$Bx', 'SIGMA$By', 'SIGMA$Bz', 'T', 'N',\n",
       "       'V', 'PHI$V', 'THETA$V', 'Ratio', 'Pressure', 'SIGMA$T', 'SIGMA$N',\n",
       "       'SIGMA$V', 'SIGMA$PHI$V', 'SIGMA$THETA$V', 'SIGMA$ratio', 'E', 'Beta',\n",
       "       'Mach_num', 'Mgs_mach_num', 'PR$FLX_1', 'PR$FLX_2', 'PR$FLX_4',\n",
       "       'PR$FLX_10', 'PR$FLX_30', 'PR$FLX_60', 'MFLX', 'R', 'F10_INDEX', 'KP',\n",
       "       'DST', 'AE', 'AP_INDEX', 'AL_INDEX', 'AU_INDEX', 'PC_N_INDEX',\n",
       "       'Solar_Lyman_alpha', 'Proton_QI'],\n",
       "      dtype='object')"
      ]
     },
     "execution_count": 4,
     "metadata": {},
     "output_type": "execute_result"
    }
   ],
   "source": [
    "df.columns"
   ]
  },
  {
   "cell_type": "code",
   "execution_count": 5,
   "id": "c663be62-96c8-43d7-8150-b4d30f71f2b6",
   "metadata": {},
   "outputs": [
    {
     "data": {
      "text/plain": [
       "520443"
      ]
     },
     "execution_count": 5,
     "metadata": {},
     "output_type": "execute_result"
    }
   ],
   "source": [
    "len(df)"
   ]
  },
  {
   "cell_type": "code",
   "execution_count": 6,
   "id": "4e214cbd-8380-4a16-9a57-94a1f7f7bd9f",
   "metadata": {},
   "outputs": [
    {
     "data": {
      "text/plain": [
       "(520443, 55)"
      ]
     },
     "execution_count": 6,
     "metadata": {},
     "output_type": "execute_result"
    }
   ],
   "source": [
    "df.shape"
   ]
  },
  {
   "cell_type": "code",
   "execution_count": 7,
   "id": "5fb7e792-5083-46bc-9c64-6d1634f8a03f",
   "metadata": {},
   "outputs": [],
   "source": [
    "df[\"DST+1\"]=df.DST.shift(periods=0) \n",
    "df[\"DST+2\"]=df.DST.shift(periods=-1) \n",
    "df[\"DST+3\"]=df.DST.shift(periods=-2) \n",
    "df[\"DST+4\"]=df.DST.shift(periods=-3) \n",
    "df[\"DST+5\"]=df.DST.shift(periods=-4) \n",
    "df[\"DST+6\"]=df.DST.shift(periods=-5) "
   ]
  },
  {
   "cell_type": "code",
   "execution_count": 8,
   "id": "aa23a101-a60a-4e08-bdd6-76d366a77711",
   "metadata": {},
   "outputs": [
    {
     "data": {
      "text/html": [
       "<div>\n",
       "<style scoped>\n",
       "    .dataframe tbody tr th:only-of-type {\n",
       "        vertical-align: middle;\n",
       "    }\n",
       "\n",
       "    .dataframe tbody tr th {\n",
       "        vertical-align: top;\n",
       "    }\n",
       "\n",
       "    .dataframe thead th {\n",
       "        text-align: right;\n",
       "    }\n",
       "</style>\n",
       "<table border=\"1\" class=\"dataframe\">\n",
       "  <thead>\n",
       "    <tr style=\"text-align: right;\">\n",
       "      <th></th>\n",
       "      <th>time1</th>\n",
       "      <th>DST</th>\n",
       "      <th>DST+1</th>\n",
       "      <th>DST+2</th>\n",
       "      <th>DST+3</th>\n",
       "      <th>DST+4</th>\n",
       "      <th>DST+5</th>\n",
       "      <th>DST+6</th>\n",
       "    </tr>\n",
       "  </thead>\n",
       "  <tbody>\n",
       "    <tr>\n",
       "      <th>0</th>\n",
       "      <td>1963-01-01 01:00:00</td>\n",
       "      <td>-5.0</td>\n",
       "      <td>-5.0</td>\n",
       "      <td>-5.0</td>\n",
       "      <td>-3.0</td>\n",
       "      <td>-3.0</td>\n",
       "      <td>-6.0</td>\n",
       "      <td>-8.0</td>\n",
       "    </tr>\n",
       "    <tr>\n",
       "      <th>1</th>\n",
       "      <td>1963-01-01 02:00:00</td>\n",
       "      <td>-5.0</td>\n",
       "      <td>-5.0</td>\n",
       "      <td>-3.0</td>\n",
       "      <td>-3.0</td>\n",
       "      <td>-6.0</td>\n",
       "      <td>-8.0</td>\n",
       "      <td>-9.0</td>\n",
       "    </tr>\n",
       "    <tr>\n",
       "      <th>2</th>\n",
       "      <td>1963-01-01 03:00:00</td>\n",
       "      <td>-3.0</td>\n",
       "      <td>-3.0</td>\n",
       "      <td>-3.0</td>\n",
       "      <td>-6.0</td>\n",
       "      <td>-8.0</td>\n",
       "      <td>-9.0</td>\n",
       "      <td>-6.0</td>\n",
       "    </tr>\n",
       "    <tr>\n",
       "      <th>3</th>\n",
       "      <td>1963-01-01 04:00:00</td>\n",
       "      <td>-3.0</td>\n",
       "      <td>-3.0</td>\n",
       "      <td>-6.0</td>\n",
       "      <td>-8.0</td>\n",
       "      <td>-9.0</td>\n",
       "      <td>-6.0</td>\n",
       "      <td>-2.0</td>\n",
       "    </tr>\n",
       "    <tr>\n",
       "      <th>4</th>\n",
       "      <td>1963-01-01 05:00:00</td>\n",
       "      <td>-6.0</td>\n",
       "      <td>-6.0</td>\n",
       "      <td>-8.0</td>\n",
       "      <td>-9.0</td>\n",
       "      <td>-6.0</td>\n",
       "      <td>-2.0</td>\n",
       "      <td>-2.0</td>\n",
       "    </tr>\n",
       "    <tr>\n",
       "      <th>5</th>\n",
       "      <td>1963-01-01 06:00:00</td>\n",
       "      <td>-8.0</td>\n",
       "      <td>-8.0</td>\n",
       "      <td>-9.0</td>\n",
       "      <td>-6.0</td>\n",
       "      <td>-2.0</td>\n",
       "      <td>-2.0</td>\n",
       "      <td>-5.0</td>\n",
       "    </tr>\n",
       "    <tr>\n",
       "      <th>6</th>\n",
       "      <td>1963-01-01 07:00:00</td>\n",
       "      <td>-9.0</td>\n",
       "      <td>-9.0</td>\n",
       "      <td>-6.0</td>\n",
       "      <td>-2.0</td>\n",
       "      <td>-2.0</td>\n",
       "      <td>-5.0</td>\n",
       "      <td>-6.0</td>\n",
       "    </tr>\n",
       "  </tbody>\n",
       "</table>\n",
       "</div>"
      ],
      "text/plain": [
       "                 time1  DST  DST+1  DST+2  DST+3  DST+4  DST+5  DST+6\n",
       "0  1963-01-01 01:00:00 -5.0   -5.0   -5.0   -3.0   -3.0   -6.0   -8.0\n",
       "1  1963-01-01 02:00:00 -5.0   -5.0   -3.0   -3.0   -6.0   -8.0   -9.0\n",
       "2  1963-01-01 03:00:00 -3.0   -3.0   -3.0   -6.0   -8.0   -9.0   -6.0\n",
       "3  1963-01-01 04:00:00 -3.0   -3.0   -6.0   -8.0   -9.0   -6.0   -2.0\n",
       "4  1963-01-01 05:00:00 -6.0   -6.0   -8.0   -9.0   -6.0   -2.0   -2.0\n",
       "5  1963-01-01 06:00:00 -8.0   -8.0   -9.0   -6.0   -2.0   -2.0   -5.0\n",
       "6  1963-01-01 07:00:00 -9.0   -9.0   -6.0   -2.0   -2.0   -5.0   -6.0"
      ]
     },
     "execution_count": 8,
     "metadata": {},
     "output_type": "execute_result"
    }
   ],
   "source": [
    "df[[\"time1\",\"DST\", \"DST+1\", \"DST+2\", \"DST+3\", \"DST+4\", \"DST+5\", \"DST+6\"]].head(7)"
   ]
  },
  {
   "cell_type": "code",
   "execution_count": 9,
   "id": "afe697f6-68e5-4cf2-9ab5-a4fc0d9e48a2",
   "metadata": {},
   "outputs": [],
   "source": [
    "df[\"BZ_GSM-1\"]=df.BZ_GSM.shift(periods=+1) \n",
    "df[\"BZ_GSM-2\"]=df.BZ_GSM.shift(periods=+2) \n",
    "df[\"BZ_GSM-3\"]=df.BZ_GSM.shift(periods=+3) \n",
    "df[\"BZ_GSM-4\"]=df.BZ_GSM.shift(periods=+4) \n",
    "df[\"BZ_GSM-5\"]=df.BZ_GSM.shift(periods=+5) \n",
    "df[\"BZ_GSM-6\"]=df.BZ_GSM.shift(periods=+6) \n",
    "df[\"BZ_GSM-7\"]=df.BZ_GSM.shift(periods=+7) \n",
    "df[\"BZ_GSM-8\"]=df.BZ_GSM.shift(periods=+8) \n",
    "df[\"BZ_GSM-9\"]=df.BZ_GSM.shift(periods=+9) \n",
    "df[\"BZ_GSM-10\"]=df.BZ_GSM.shift(periods=+10) \n",
    "df[\"BZ_GSM-11\"]=df.BZ_GSM.shift(periods=+11) \n",
    "df[\"BZ_GSM-12\"]=df.BZ_GSM.shift(periods=+12) \n",
    "df[\"BZ_GSM-13\"]=df.BZ_GSM.shift(periods=+13) \n",
    "df[\"BZ_GSM-14\"]=df.BZ_GSM.shift(periods=+14) \n",
    "df[\"BZ_GSM-15\"]=df.BZ_GSM.shift(periods=+15) \n",
    "df[\"BZ_GSM-16\"]=df.BZ_GSM.shift(periods=+16) \n",
    "df[\"BZ_GSM-17\"]=df.BZ_GSM.shift(periods=+17) \n",
    "df[\"BZ_GSM-18\"]=df.BZ_GSM.shift(periods=+18) \n",
    "df[\"BZ_GSM-19\"]=df.BZ_GSM.shift(periods=+19) \n",
    "df[\"BZ_GSM-20\"]=df.BZ_GSM.shift(periods=+20) \n",
    "df[\"BZ_GSM-21\"]=df.BZ_GSM.shift(periods=+21) \n",
    "df[\"BZ_GSM-22\"]=df.BZ_GSM.shift(periods=+22) \n",
    "df[\"BZ_GSM-23\"]=df.BZ_GSM.shift(periods=+23) \n",
    "df[\"BZ_GSM-24\"]=df.BZ_GSM.shift(periods=+24) "
   ]
  },
  {
   "cell_type": "code",
   "execution_count": 10,
   "id": "3c852ca2-6a53-4cf0-bd7b-3b9684520d44",
   "metadata": {},
   "outputs": [
    {
     "data": {
      "text/plain": [
       "Index(['time1', 'Rot$', 'IMF', 'PLS', 'IMF_PTS', 'PLS_PTS', 'ABS_B', 'F',\n",
       "       'THETA_AV', 'PHI_AV', 'BX_GSE', 'BY_GSE', 'BZ_GSE', 'BY_GSM', 'BZ_GSM',\n",
       "       'SIGMA$ABS_B', 'SIGMA$B', 'SIGMA$Bx', 'SIGMA$By', 'SIGMA$Bz', 'T', 'N',\n",
       "       'V', 'PHI$V', 'THETA$V', 'Ratio', 'Pressure', 'SIGMA$T', 'SIGMA$N',\n",
       "       'SIGMA$V', 'SIGMA$PHI$V', 'SIGMA$THETA$V', 'SIGMA$ratio', 'E', 'Beta',\n",
       "       'Mach_num', 'Mgs_mach_num', 'PR$FLX_1', 'PR$FLX_2', 'PR$FLX_4',\n",
       "       'PR$FLX_10', 'PR$FLX_30', 'PR$FLX_60', 'MFLX', 'R', 'F10_INDEX', 'KP',\n",
       "       'DST', 'AE', 'AP_INDEX', 'AL_INDEX', 'AU_INDEX', 'PC_N_INDEX',\n",
       "       'Solar_Lyman_alpha', 'Proton_QI', 'DST+1', 'DST+2', 'DST+3', 'DST+4',\n",
       "       'DST+5', 'DST+6', 'BZ_GSM-1', 'BZ_GSM-2', 'BZ_GSM-3', 'BZ_GSM-4',\n",
       "       'BZ_GSM-5', 'BZ_GSM-6', 'BZ_GSM-7', 'BZ_GSM-8', 'BZ_GSM-9', 'BZ_GSM-10',\n",
       "       'BZ_GSM-11', 'BZ_GSM-12', 'BZ_GSM-13', 'BZ_GSM-14', 'BZ_GSM-15',\n",
       "       'BZ_GSM-16', 'BZ_GSM-17', 'BZ_GSM-18', 'BZ_GSM-19', 'BZ_GSM-20',\n",
       "       'BZ_GSM-21', 'BZ_GSM-22', 'BZ_GSM-23', 'BZ_GSM-24'],\n",
       "      dtype='object')"
      ]
     },
     "execution_count": 10,
     "metadata": {},
     "output_type": "execute_result"
    }
   ],
   "source": [
    "df.columns"
   ]
  },
  {
   "cell_type": "code",
   "execution_count": 11,
   "id": "58ee24b6-752f-4a3e-b7cd-81714e2dc42e",
   "metadata": {},
   "outputs": [],
   "source": [
    "df.to_csv('allDST_omni.csv')"
   ]
  }
 ],
 "metadata": {
  "kernelspec": {
   "display_name": "Python 3 (ipykernel)",
   "language": "python",
   "name": "python3"
  },
  "language_info": {
   "codemirror_mode": {
    "name": "ipython",
    "version": 3
   },
   "file_extension": ".py",
   "mimetype": "text/x-python",
   "name": "python",
   "nbconvert_exporter": "python",
   "pygments_lexer": "ipython3",
   "version": "3.10.6"
  }
 },
 "nbformat": 4,
 "nbformat_minor": 5
}
